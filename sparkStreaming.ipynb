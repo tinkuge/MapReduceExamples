{
  "nbformat": 4,
  "nbformat_minor": 0,
  "metadata": {
    "colab": {
      "name": "sparkStreaming",
      "provenance": [],
      "collapsed_sections": []
    },
    "kernelspec": {
      "name": "python3",
      "display_name": "Python 3"
    }
  },
  "cells": [
    {
      "cell_type": "code",
      "metadata": {
        "id": "1qN9CV6FBjiM",
        "colab_type": "code",
        "colab": {
          "base_uri": "https://localhost:8080/",
          "height": 221
        },
        "outputId": "4c548c33-a1eb-4fa6-ca57-0b4356234604"
      },
      "source": [
        "!apt-get update"
      ],
      "execution_count": null,
      "outputs": [
        {
          "output_type": "stream",
          "text": [
            "\r0% [Working]\r            \rHit:1 https://cloud.r-project.org/bin/linux/ubuntu bionic-cran35/ InRelease\n",
            "\r0% [Connecting to archive.ubuntu.com (91.189.88.142)] [Connecting to security.u\r0% [1 InRelease gpgv 3,626 B] [Connecting to archive.ubuntu.com (91.189.88.142)\r                                                                               \rIgn:2 https://developer.download.nvidia.com/compute/cuda/repos/ubuntu1804/x86_64  InRelease\n",
            "\r0% [1 InRelease gpgv 3,626 B] [Connecting to archive.ubuntu.com (91.189.88.142)\r                                                                               \rIgn:3 https://developer.download.nvidia.com/compute/machine-learning/repos/ubuntu1804/x86_64  InRelease\n",
            "\r0% [1 InRelease gpgv 3,626 B] [Waiting for headers] [Waiting for headers] [Wait\r                                                                               \rHit:4 https://developer.download.nvidia.com/compute/cuda/repos/ubuntu1804/x86_64  Release\n",
            "\r0% [1 InRelease gpgv 3,626 B] [Waiting for headers] [Waiting for headers] [Wait\r                                                                               \rHit:5 https://developer.download.nvidia.com/compute/machine-learning/repos/ubuntu1804/x86_64  Release\n",
            "\r0% [1 InRelease gpgv 3,626 B] [Waiting for headers] [Waiting for headers] [Wait\r                                                                               \rHit:6 http://ppa.launchpad.net/graphics-drivers/ppa/ubuntu bionic InRelease\n",
            "\r0% [1 InRelease gpgv 3,626 B] [Waiting for headers] [Waiting for headers] [Conn\r                                                                               \rHit:7 http://security.ubuntu.com/ubuntu bionic-security InRelease\n",
            "Hit:8 http://archive.ubuntu.com/ubuntu bionic InRelease\n",
            "Hit:9 http://archive.ubuntu.com/ubuntu bionic-updates InRelease\n",
            "Hit:10 http://ppa.launchpad.net/marutter/c2d4u3.5/ubuntu bionic InRelease\n",
            "Hit:11 http://archive.ubuntu.com/ubuntu bionic-backports InRelease\n",
            "Reading package lists... Done\n"
          ],
          "name": "stdout"
        }
      ]
    },
    {
      "cell_type": "code",
      "metadata": {
        "id": "34QHLpbvBJtZ",
        "colab_type": "code",
        "colab": {}
      },
      "source": [
        "!apt-get install openjdk-8-jdk-headless -qq > /dev/null"
      ],
      "execution_count": null,
      "outputs": []
    },
    {
      "cell_type": "code",
      "metadata": {
        "id": "H0_kRlqsBK6C",
        "colab_type": "code",
        "colab": {}
      },
      "source": [
        "!wget -q https://downloads.apache.org/spark/spark-2.4.6/spark-2.4.6-bin-hadoop2.7.tgz"
      ],
      "execution_count": null,
      "outputs": []
    },
    {
      "cell_type": "code",
      "metadata": {
        "id": "pipkB-kxCzXS",
        "colab_type": "code",
        "colab": {}
      },
      "source": [
        "!tar xf spark-2.4.6-bin-hadoop2.7.tgz\n",
        "!pip install -q findspark"
      ],
      "execution_count": null,
      "outputs": []
    },
    {
      "cell_type": "code",
      "metadata": {
        "id": "raW6AnxED9Ti",
        "colab_type": "code",
        "colab": {}
      },
      "source": [
        "import os\n",
        "os.environ[\"JAVA_HOME\"] = \"/usr/lib/jvm/java-8-openjdk-amd64\"\n",
        "os.environ[\"SPARK_HOME\"] = \"/content/spark-2.4.6-bin-hadoop2.7\""
      ],
      "execution_count": null,
      "outputs": []
    },
    {
      "cell_type": "code",
      "metadata": {
        "id": "5K7hbZFhFa-X",
        "colab_type": "code",
        "colab": {}
      },
      "source": [
        "import findspark\n",
        "findspark.init()\n",
        "from pyspark.sql import SparkSession\n",
        "spark = SparkSession.builder.master(\"local[*]\").getOrCreate()"
      ],
      "execution_count": null,
      "outputs": []
    },
    {
      "cell_type": "code",
      "metadata": {
        "id": "UGHsoggTFgkU",
        "colab_type": "code",
        "colab": {
          "base_uri": "https://localhost:8080/",
          "height": 216
        },
        "outputId": "ef664b3d-c0a8-4321-ffa7-18c1e8826de4"
      },
      "source": [
        "spark"
      ],
      "execution_count": null,
      "outputs": [
        {
          "output_type": "execute_result",
          "data": {
            "text/html": [
              "\n",
              "            <div>\n",
              "                <p><b>SparkSession - in-memory</b></p>\n",
              "                \n",
              "        <div>\n",
              "            <p><b>SparkContext</b></p>\n",
              "\n",
              "            <p><a href=\"http://e7e8eb6fe8e7:4040\">Spark UI</a></p>\n",
              "\n",
              "            <dl>\n",
              "              <dt>Version</dt>\n",
              "                <dd><code>v2.4.6</code></dd>\n",
              "              <dt>Master</dt>\n",
              "                <dd><code>local[*]</code></dd>\n",
              "              <dt>AppName</dt>\n",
              "                <dd><code>pyspark-shell</code></dd>\n",
              "            </dl>\n",
              "        </div>\n",
              "        \n",
              "            </div>\n",
              "        "
            ],
            "text/plain": [
              "<pyspark.sql.session.SparkSession at 0x7f20ea1a9f98>"
            ]
          },
          "metadata": {
            "tags": []
          },
          "execution_count": 7
        }
      ]
    },
    {
      "cell_type": "code",
      "metadata": {
        "id": "qXhRWIgnGvNv",
        "colab_type": "code",
        "colab": {
          "base_uri": "https://localhost:8080/",
          "height": 34
        },
        "outputId": "a6adf527-e529-431e-e67c-a25176139512"
      },
      "source": [
        "from google.colab import drive\n",
        "drive.mount('/content/drive')"
      ],
      "execution_count": null,
      "outputs": [
        {
          "output_type": "stream",
          "text": [
            "Drive already mounted at /content/drive; to attempt to forcibly remount, call drive.mount(\"/content/drive\", force_remount=True).\n"
          ],
          "name": "stdout"
        }
      ]
    },
    {
      "cell_type": "code",
      "metadata": {
        "id": "Y2aN9jBiLmZN",
        "colab_type": "code",
        "colab": {
          "base_uri": "https://localhost:8080/",
          "height": 459
        },
        "outputId": "031421f6-b453-47aa-8351-be2baffe698a"
      },
      "source": [
        "!ls './drive/My Drive/Colab Notebooks/Spark/Data'"
      ],
      "execution_count": null,
      "outputs": [
        {
          "output_type": "stream",
          "text": [
            "part-00000-tid-730451297822678341-1dda7027-2071-4d73-a0e2-7fb6a91e1d1f-0-c000.json\n",
            "part-00001-tid-730451297822678341-1dda7027-2071-4d73-a0e2-7fb6a91e1d1f-0-c000.json\n",
            "part-00002-tid-730451297822678341-1dda7027-2071-4d73-a0e2-7fb6a91e1d1f-0-c000.json\n",
            "part-00003-tid-730451297822678341-1dda7027-2071-4d73-a0e2-7fb6a91e1d1f-0-c000.json\n",
            "part-00004-tid-730451297822678341-1dda7027-2071-4d73-a0e2-7fb6a91e1d1f-0-c000.json\n",
            "part-00005-tid-730451297822678341-1dda7027-2071-4d73-a0e2-7fb6a91e1d1f-0-c000.json\n",
            "part-00006-tid-730451297822678341-1dda7027-2071-4d73-a0e2-7fb6a91e1d1f-0-c000.json\n",
            "part-00007-tid-730451297822678341-1dda7027-2071-4d73-a0e2-7fb6a91e1d1f-0-c000.json\n",
            "part-00008-tid-730451297822678341-1dda7027-2071-4d73-a0e2-7fb6a91e1d1f-0-c000.json\n",
            "part-00009-tid-730451297822678341-1dda7027-2071-4d73-a0e2-7fb6a91e1d1f-0-c000.json\n",
            "part-00010-tid-730451297822678341-1dda7027-2071-4d73-a0e2-7fb6a91e1d1f-0-c000.json\n",
            "part-00011-tid-730451297822678341-1dda7027-2071-4d73-a0e2-7fb6a91e1d1f-0-c000.json\n",
            "part-00012-tid-730451297822678341-1dda7027-2071-4d73-a0e2-7fb6a91e1d1f-0-c000.json\n",
            "part-00013-tid-730451297822678341-1dda7027-2071-4d73-a0e2-7fb6a91e1d1f-0-c000.json\n",
            "part-00014-tid-730451297822678341-1dda7027-2071-4d73-a0e2-7fb6a91e1d1f-0-c000.json\n",
            "part-00015-tid-730451297822678341-1dda7027-2071-4d73-a0e2-7fb6a91e1d1f-0-c000.json\n",
            "part-00016-tid-730451297822678341-1dda7027-2071-4d73-a0e2-7fb6a91e1d1f-0-c000.json\n",
            "part-00017-tid-730451297822678341-1dda7027-2071-4d73-a0e2-7fb6a91e1d1f-0-c000.json\n",
            "part-00018-tid-730451297822678341-1dda7027-2071-4d73-a0e2-7fb6a91e1d1f-0-c000.json\n",
            "part-00019-tid-730451297822678341-1dda7027-2071-4d73-a0e2-7fb6a91e1d1f-0-c000.json\n",
            "part-00020-tid-730451297822678341-1dda7027-2071-4d73-a0e2-7fb6a91e1d1f-0-c000.json\n",
            "part-00021-tid-730451297822678341-1dda7027-2071-4d73-a0e2-7fb6a91e1d1f-0-c000.json\n",
            "part-00022-tid-730451297822678341-1dda7027-2071-4d73-a0e2-7fb6a91e1d1f-0-c000.json\n",
            "part-00023-tid-730451297822678341-1dda7027-2071-4d73-a0e2-7fb6a91e1d1f-0-c000.json\n",
            "part-00024-tid-730451297822678341-1dda7027-2071-4d73-a0e2-7fb6a91e1d1f-0-c000.json\n",
            "part-00025-tid-730451297822678341-1dda7027-2071-4d73-a0e2-7fb6a91e1d1f-0-c000.json\n"
          ],
          "name": "stdout"
        }
      ]
    },
    {
      "cell_type": "code",
      "metadata": {
        "id": "OOr1tbx3Ola4",
        "colab_type": "code",
        "colab": {}
      },
      "source": [
        "fpath = '/content/drive/My Drive/Colab Notebooks/Spark/Data'"
      ],
      "execution_count": null,
      "outputs": []
    },
    {
      "cell_type": "code",
      "metadata": {
        "id": "Cxl7DwWbP7nu",
        "colab_type": "code",
        "colab": {}
      },
      "source": [
        "static = spark.read.json('/content/drive/My Drive/Colab Notebooks/Spark/Data/part-00000-tid-730451297822678341-1dda7027-2071-4d73-a0e2-7fb6a91e1d1f-0-c000.json')"
      ],
      "execution_count": null,
      "outputs": []
    },
    {
      "cell_type": "code",
      "metadata": {
        "id": "RiCAMFE5S3jI",
        "colab_type": "code",
        "colab": {
          "base_uri": "https://localhost:8080/",
          "height": 221
        },
        "outputId": "d4c5f9e5-7240-42d2-9db5-f288b6a300a8"
      },
      "source": [
        "static.printSchema()"
      ],
      "execution_count": null,
      "outputs": [
        {
          "output_type": "stream",
          "text": [
            "root\n",
            " |-- Arrival_Time: long (nullable = true)\n",
            " |-- Creation_Time: long (nullable = true)\n",
            " |-- Device: string (nullable = true)\n",
            " |-- Index: long (nullable = true)\n",
            " |-- Model: string (nullable = true)\n",
            " |-- User: string (nullable = true)\n",
            " |-- gt: string (nullable = true)\n",
            " |-- x: double (nullable = true)\n",
            " |-- y: double (nullable = true)\n",
            " |-- z: double (nullable = true)\n",
            "\n"
          ],
          "name": "stdout"
        }
      ]
    },
    {
      "cell_type": "code",
      "metadata": {
        "id": "iVj3kIPtTA7A",
        "colab_type": "code",
        "colab": {}
      },
      "source": [
        "streamdf = spark.readStream.option(\"MaxFilesPerTrigger\",1).schema(static.schema).json(fpath)"
      ],
      "execution_count": null,
      "outputs": []
    },
    {
      "cell_type": "code",
      "metadata": {
        "id": "FnupdjigTNWf",
        "colab_type": "code",
        "colab": {}
      },
      "source": [
        "actCount = streamdf.groupBy(\"gt\").count()"
      ],
      "execution_count": null,
      "outputs": []
    },
    {
      "cell_type": "code",
      "metadata": {
        "id": "DOQW-3oCTRTc",
        "colab_type": "code",
        "colab": {}
      },
      "source": [
        "actQuery = actCount.writeStream.queryName(\"acount\").format(\"memory\").outputMode(\"complete\").start()"
      ],
      "execution_count": null,
      "outputs": []
    },
    {
      "cell_type": "code",
      "metadata": {
        "id": "8SXSzNLiTmr8",
        "colab_type": "code",
        "colab": {
          "base_uri": "https://localhost:8080/",
          "height": 34
        },
        "outputId": "4333738e-5c7e-46a7-fa37-00241bd58bad"
      },
      "source": [
        "spark.streams.active"
      ],
      "execution_count": null,
      "outputs": [
        {
          "output_type": "execute_result",
          "data": {
            "text/plain": [
              "[<pyspark.sql.streaming.StreamingQuery at 0x7f20e993ce48>]"
            ]
          },
          "metadata": {
            "tags": []
          },
          "execution_count": 16
        }
      ]
    },
    {
      "cell_type": "code",
      "metadata": {
        "id": "S7oRxfiVVa0O",
        "colab_type": "code",
        "colab": {
          "base_uri": "https://localhost:8080/",
          "height": 680
        },
        "outputId": "06d65f44-0b8b-4ddd-cb80-f2e9929df556"
      },
      "source": [
        "from time import sleep\n",
        "for x in range(5):\n",
        "  spark.sql(\"SELECT * FROM acount\").show()\n",
        "  sleep(1)"
      ],
      "execution_count": null,
      "outputs": [
        {
          "output_type": "stream",
          "text": [
            "+---+-----+\n",
            "| gt|count|\n",
            "+---+-----+\n",
            "+---+-----+\n",
            "\n",
            "+---+-----+\n",
            "| gt|count|\n",
            "+---+-----+\n",
            "+---+-----+\n",
            "\n",
            "+---+-----+\n",
            "| gt|count|\n",
            "+---+-----+\n",
            "+---+-----+\n",
            "\n",
            "+----------+-----+\n",
            "|        gt|count|\n",
            "+----------+-----+\n",
            "|  stairsup|10452|\n",
            "|       sit|12310|\n",
            "|     stand|11385|\n",
            "|      walk|13256|\n",
            "|      bike|10797|\n",
            "|stairsdown| 9365|\n",
            "|      null|10447|\n",
            "+----------+-----+\n",
            "\n",
            "+----------+-----+\n",
            "|        gt|count|\n",
            "+----------+-----+\n",
            "|  stairsup|10452|\n",
            "|       sit|12310|\n",
            "|     stand|11385|\n",
            "|      walk|13256|\n",
            "|      bike|10797|\n",
            "|stairsdown| 9365|\n",
            "|      null|10447|\n",
            "+----------+-----+\n",
            "\n"
          ],
          "name": "stdout"
        }
      ]
    },
    {
      "cell_type": "code",
      "metadata": {
        "id": "kHisc5WUVuGA",
        "colab_type": "code",
        "colab": {
          "base_uri": "https://localhost:8080/",
          "height": 221
        },
        "outputId": "2468fb31-e7db-4342-d2e3-99a43d620ce7"
      },
      "source": [
        "spark.sql(\"select * from acount limit 10\").show()"
      ],
      "execution_count": null,
      "outputs": [
        {
          "output_type": "stream",
          "text": [
            "+----------+-----+\n",
            "|        gt|count|\n",
            "+----------+-----+\n",
            "|  stairsup|20908|\n",
            "|       sit|24617|\n",
            "|     stand|22772|\n",
            "|      walk|26512|\n",
            "|      bike|21594|\n",
            "|stairsdown|18727|\n",
            "|      null|20894|\n",
            "+----------+-----+\n",
            "\n"
          ],
          "name": "stdout"
        }
      ]
    },
    {
      "cell_type": "code",
      "metadata": {
        "id": "JLXqF214YEo2",
        "colab_type": "code",
        "colab": {
          "base_uri": "https://localhost:8080/",
          "height": 34
        },
        "outputId": "32a8cacc-254c-48a8-e7bd-b7e5cb7be31d"
      },
      "source": [
        "spark.streams.active"
      ],
      "execution_count": null,
      "outputs": [
        {
          "output_type": "execute_result",
          "data": {
            "text/plain": [
              "[<pyspark.sql.streaming.StreamingQuery at 0x7f20e994ab38>]"
            ]
          },
          "metadata": {
            "tags": []
          },
          "execution_count": 19
        }
      ]
    },
    {
      "cell_type": "code",
      "metadata": {
        "id": "2iI5n3-daXDm",
        "colab_type": "code",
        "colab": {
          "base_uri": "https://localhost:8080/",
          "height": 187
        },
        "outputId": "f74bd7fb-bb2b-460c-c58d-2ba1c6fee16c"
      },
      "source": [
        "static.select(\"*\").take(10)"
      ],
      "execution_count": null,
      "outputs": [
        {
          "output_type": "execute_result",
          "data": {
            "text/plain": [
              "[Row(Arrival_Time=1424686735175, Creation_Time=1424686733176178965, Device='nexus4_1', Index=35, Model='nexus4', User='g', gt='stand', x=0.0014038086, y=0.00050354, z=-0.0124053955),\n",
              " Row(Arrival_Time=1424686735378, Creation_Time=1424686733382813486, Device='nexus4_1', Index=76, Model='nexus4', User='g', gt='stand', x=-0.0039367676, y=0.026138306, z=-0.01133728),\n",
              " Row(Arrival_Time=1424686735577, Creation_Time=1424686733579072031, Device='nexus4_1', Index=115, Model='nexus4', User='g', gt='stand', x=0.003540039, y=-0.034744263, z=-0.019882202),\n",
              " Row(Arrival_Time=1424686735779, Creation_Time=1424688581834321412, Device='nexus4_2', Index=163, Model='nexus4', User='g', gt='stand', x=0.002822876, y=0.005584717, z=0.017318726),\n",
              " Row(Arrival_Time=1424686735982, Creation_Time=1424688582035859498, Device='nexus4_2', Index=203, Model='nexus4', User='g', gt='stand', x=0.0017547607, y=-0.018981934, z=-0.022201538),\n",
              " Row(Arrival_Time=1424686736186, Creation_Time=1424686734188508066, Device='nexus4_1', Index=236, Model='nexus4', User='g', gt='stand', x=0.0014038086, y=0.010116577, z=0.0004119873),\n",
              " Row(Arrival_Time=1424686736385, Creation_Time=1424688582438538941, Device='nexus4_2', Index=283, Model='nexus4', User='g', gt='stand', x=-0.0035858154, y=-0.008300781, z=0.011978149),\n",
              " Row(Arrival_Time=1424686736584, Creation_Time=1424688582640138062, Device='nexus4_2', Index=323, Model='nexus4', User='g', gt='stand', x=0.0006866455, y=-0.0018920898, z=-0.0061798096),\n",
              " Row(Arrival_Time=1424686736789, Creation_Time=1424688582841554078, Device='nexus4_2', Index=363, Model='nexus4', User='g', gt='stand', x=0.0038909912, y=0.011993408, z=-0.0104522705),\n",
              " Row(Arrival_Time=1424686736992, Creation_Time=1424688583042786988, Device='nexus4_2', Index=403, Model='nexus4', User='g', gt='stand', x=-0.001449585, y=0.014129639, z=0.0066375732)]"
            ]
          },
          "metadata": {
            "tags": []
          },
          "execution_count": 20
        }
      ]
    },
    {
      "cell_type": "code",
      "metadata": {
        "id": "sV6mJQ3QcnoT",
        "colab_type": "code",
        "colab": {
          "base_uri": "https://localhost:8080/",
          "height": 35
        },
        "outputId": "ff6709f3-b6aa-4407-de39-a627d02d6891"
      },
      "source": [
        "spark.conf.get(\"spark.sql.shuffle.partitions\")"
      ],
      "execution_count": null,
      "outputs": [
        {
          "output_type": "execute_result",
          "data": {
            "application/vnd.google.colaboratory.intrinsic+json": {
              "type": "string"
            },
            "text/plain": [
              "'200'"
            ]
          },
          "metadata": {
            "tags": []
          },
          "execution_count": 21
        }
      ]
    },
    {
      "cell_type": "code",
      "metadata": {
        "id": "eaeR5TC-dsr4",
        "colab_type": "code",
        "colab": {}
      },
      "source": [
        "from pyspark.sql.functions import expr\n",
        "\n",
        "strans = streamdf.withColumn(\"stairs\", expr(\"gt like '%stairs$'\"))"
      ],
      "execution_count": null,
      "outputs": []
    },
    {
      "cell_type": "code",
      "metadata": {
        "id": "hKZgH04NKiCN",
        "colab_type": "code",
        "colab": {}
      },
      "source": [
        "actQuery.stop()"
      ],
      "execution_count": null,
      "outputs": []
    },
    {
      "cell_type": "code",
      "metadata": {
        "id": "HUeEnCk4KpvW",
        "colab_type": "code",
        "colab": {
          "base_uri": "https://localhost:8080/",
          "height": 34
        },
        "outputId": "b9cc7711-95e8-4b03-e708-f09d5ea5a81d"
      },
      "source": [
        "spark.streams.active"
      ],
      "execution_count": null,
      "outputs": [
        {
          "output_type": "execute_result",
          "data": {
            "text/plain": [
              "[]"
            ]
          },
          "metadata": {
            "tags": []
          },
          "execution_count": 24
        }
      ]
    },
    {
      "cell_type": "code",
      "metadata": {
        "id": "znfUpxOgKrpi",
        "colab_type": "code",
        "colab": {}
      },
      "source": [
        "atrans = streamdf.withColumn(\"stairs\", expr(\"gt like '%stairs$'\")).where(\"gt is not null\").select(\"gt\", \"model\", \"arrival_time\", \"creation_time\", \"stairs\")"
      ],
      "execution_count": null,
      "outputs": []
    },
    {
      "cell_type": "code",
      "metadata": {
        "id": "ROKbWpSxMnkm",
        "colab_type": "code",
        "colab": {}
      },
      "source": [
        "atrm = atrans.writeStream.queryName(\"atransfm\").format(\"memory\").outputMode(\"append\").start()"
      ],
      "execution_count": null,
      "outputs": []
    },
    {
      "cell_type": "code",
      "metadata": {
        "id": "hP4b7M8wM8vI",
        "colab_type": "code",
        "colab": {
          "base_uri": "https://localhost:8080/",
          "height": 34
        },
        "outputId": "e8dce805-b924-4f1f-ca55-34929c6bd46d"
      },
      "source": [
        "spark.sql(\"select * from atransfm\").take(10)"
      ],
      "execution_count": null,
      "outputs": [
        {
          "output_type": "execute_result",
          "data": {
            "text/plain": [
              "[]"
            ]
          },
          "metadata": {
            "tags": []
          },
          "execution_count": 27
        }
      ]
    },
    {
      "cell_type": "code",
      "metadata": {
        "id": "2em3jNiEPy3u",
        "colab_type": "code",
        "colab": {}
      },
      "source": [
        "atrm.stop()"
      ],
      "execution_count": null,
      "outputs": []
    },
    {
      "cell_type": "code",
      "metadata": {
        "id": "99htVLcyOjNO",
        "colab_type": "code",
        "colab": {}
      },
      "source": [
        "simpleTransform = streamdf.withColumn(\"stairs\", expr(\"gt like '%stairs%'\"))\\\n",
        ".where(\"stairs\")\\\n",
        ".where(\"gt is not null\")\\\n",
        ".select(\"gt\", \"model\", \"arrival_time\", \"creation_time\")\\\n",
        ".writeStream\\\n",
        ".queryName(\"simple_transform\")\\\n",
        ".format(\"memory\")\\\n",
        ".outputMode(\"append\")\\\n",
        ".start()"
      ],
      "execution_count": null,
      "outputs": []
    },
    {
      "cell_type": "code",
      "metadata": {
        "id": "Jis-MifMQNfo",
        "colab_type": "code",
        "colab": {}
      },
      "source": [
        "simpleTransform.stop()"
      ],
      "execution_count": null,
      "outputs": []
    },
    {
      "cell_type": "code",
      "metadata": {
        "id": "KnhuEdWCTaV3",
        "colab_type": "code",
        "colab": {}
      },
      "source": [
        "spltrans = streamdf.withColumn(\"stairs\", expr(\"gt like '%stairs%'\"))\\\n",
        ".where(\"stairs\")\\\n",
        ".where(\"gt is not null\")\\\n",
        ".select(\"gt\", \"model\", \"arrival_time\", \"creation_time\")\\\n",
        ".writeStream\\\n",
        ".queryName(\"sformTable\")\\\n",
        ".format(\"memory\")\\\n",
        ".outputMode(\"append\")\\\n",
        ".start()"
      ],
      "execution_count": null,
      "outputs": []
    },
    {
      "cell_type": "code",
      "metadata": {
        "id": "kEsKN_P2TjdG",
        "colab_type": "code",
        "colab": {
          "base_uri": "https://localhost:8080/",
          "height": 459
        },
        "outputId": "6769e608-4e5e-434e-abb4-49662c4c2c0c"
      },
      "source": [
        "spark.sql(\"select * from sformTable\").show()"
      ],
      "execution_count": null,
      "outputs": [
        {
          "output_type": "stream",
          "text": [
            "+--------+------+-------------+-------------------+\n",
            "|      gt| model| arrival_time|      creation_time|\n",
            "+--------+------+-------------+-------------------+\n",
            "|stairsup|nexus4|1424687983725|1424689829780924966|\n",
            "|stairsup|nexus4|1424687984011|1424687982020381820|\n",
            "|stairsup|nexus4|1424687984413|1424687982421559529|\n",
            "|stairsup|nexus4|1424687984818|1424687982827412800|\n",
            "|stairsup|nexus4|1424687985223|1424687983227571661|\n",
            "|stairsup|nexus4|1424687985623|1424687983630373175|\n",
            "|stairsup|nexus4|1424687986026|1424687984033235724|\n",
            "|stairsup|nexus4|1424687986428|1424687984435884650|\n",
            "|stairsup|nexus4|1424687986833|1424687984840816323|\n",
            "|stairsup|nexus4|1424687987240|1424687985246761147|\n",
            "|stairsup|nexus4|1424687987635|1424687985644600852|\n",
            "|stairsup|nexus4|1424687987994|1424689834040863906|\n",
            "|stairsup|nexus4|1424687988200|1424687986208748802|\n",
            "|stairsup|nexus4|1424687988397|1424689834443695938|\n",
            "|stairsup|nexus4|1424687988598|1424689834645111953|\n",
            "|stairsup|nexus4|1424687988804|1424689834846711074|\n",
            "|stairsup|nexus4|1424687989002|1424687987009377464|\n",
            "|stairsup|nexus4|1424687989201|1424687987211001242|\n",
            "|stairsup|nexus4|1424687989409|1424687987417300070|\n",
            "|stairsup|nexus4|1424687989610|1424689835661012116|\n",
            "+--------+------+-------------+-------------------+\n",
            "only showing top 20 rows\n",
            "\n"
          ],
          "name": "stdout"
        }
      ]
    },
    {
      "cell_type": "code",
      "metadata": {
        "id": "-2uJlsAqTr6G",
        "colab_type": "code",
        "colab": {}
      },
      "source": [
        "spltrans.stop()"
      ],
      "execution_count": null,
      "outputs": []
    },
    {
      "cell_type": "code",
      "metadata": {
        "id": "jGMImh4PT3m2",
        "colab_type": "code",
        "colab": {}
      },
      "source": [
        "anotherStrm = streamdf.withColumn(\"stairs\", expr(\"gt like '%stairs%'\"))\\\n",
        ".where(\"stairs\")\\\n",
        ".where(\"gt is not null\")\\\n",
        ".select(\"gt\", \"model\", \"arrival_time\", \"creation_time\", \"stairs\")\\\n",
        ".writeStream\\\n",
        ".queryName(\"sTable\")\\\n",
        ".format(\"memory\")\\\n",
        ".outputMode(\"append\")\\\n",
        ".start()"
      ],
      "execution_count": null,
      "outputs": []
    },
    {
      "cell_type": "code",
      "metadata": {
        "id": "RoNkCcf7UHHq",
        "colab_type": "code",
        "colab": {
          "base_uri": "https://localhost:8080/",
          "height": 459
        },
        "outputId": "f76b5661-7dea-4e86-ebd6-e5531910ff44"
      },
      "source": [
        "spark.sql(\"select * from sTable\").show()"
      ],
      "execution_count": null,
      "outputs": [
        {
          "output_type": "stream",
          "text": [
            "+--------+------+-------------+-------------------+------+\n",
            "|      gt| model| arrival_time|      creation_time|stairs|\n",
            "+--------+------+-------------+-------------------+------+\n",
            "|stairsup|nexus4|1424687983725|1424689829780924966|  true|\n",
            "|stairsup|nexus4|1424687984011|1424687982020381820|  true|\n",
            "|stairsup|nexus4|1424687984413|1424687982421559529|  true|\n",
            "|stairsup|nexus4|1424687984818|1424687982827412800|  true|\n",
            "|stairsup|nexus4|1424687985223|1424687983227571661|  true|\n",
            "|stairsup|nexus4|1424687985623|1424687983630373175|  true|\n",
            "|stairsup|nexus4|1424687986026|1424687984033235724|  true|\n",
            "|stairsup|nexus4|1424687986428|1424687984435884650|  true|\n",
            "|stairsup|nexus4|1424687986833|1424687984840816323|  true|\n",
            "|stairsup|nexus4|1424687987240|1424687985246761147|  true|\n",
            "|stairsup|nexus4|1424687987635|1424687985644600852|  true|\n",
            "|stairsup|nexus4|1424687987994|1424689834040863906|  true|\n",
            "|stairsup|nexus4|1424687988200|1424687986208748802|  true|\n",
            "|stairsup|nexus4|1424687988397|1424689834443695938|  true|\n",
            "|stairsup|nexus4|1424687988598|1424689834645111953|  true|\n",
            "|stairsup|nexus4|1424687988804|1424689834846711074|  true|\n",
            "|stairsup|nexus4|1424687989002|1424687987009377464|  true|\n",
            "|stairsup|nexus4|1424687989201|1424687987211001242|  true|\n",
            "|stairsup|nexus4|1424687989409|1424687987417300070|  true|\n",
            "|stairsup|nexus4|1424687989610|1424689835661012116|  true|\n",
            "+--------+------+-------------+-------------------+------+\n",
            "only showing top 20 rows\n",
            "\n"
          ],
          "name": "stdout"
        }
      ]
    },
    {
      "cell_type": "code",
      "metadata": {
        "id": "jEQ13eGlURrj",
        "colab_type": "code",
        "colab": {}
      },
      "source": [
        "anotherStrm.stop()"
      ],
      "execution_count": null,
      "outputs": []
    },
    {
      "cell_type": "code",
      "metadata": {
        "id": "-0E8BteRUbaO",
        "colab_type": "code",
        "colab": {
          "base_uri": "https://localhost:8080/",
          "height": 34
        },
        "outputId": "53885cac-be9f-48b6-bcae-7a26da13ce44"
      },
      "source": [
        "spark.streams.active"
      ],
      "execution_count": null,
      "outputs": [
        {
          "output_type": "execute_result",
          "data": {
            "text/plain": [
              "[]"
            ]
          },
          "metadata": {
            "tags": []
          },
          "execution_count": 42
        }
      ]
    },
    {
      "cell_type": "code",
      "metadata": {
        "id": "LPAWav5pcHdU",
        "colab_type": "code",
        "colab": {}
      },
      "source": [
        ""
      ],
      "execution_count": null,
      "outputs": []
    }
  ]
}